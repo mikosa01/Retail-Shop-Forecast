{
 "cells": [
  {
   "cell_type": "code",
   "execution_count": 2,
   "metadata": {},
   "outputs": [],
   "source": [
    "import pandas as pd \n",
    "import numpy as np "
   ]
  },
  {
   "cell_type": "code",
   "execution_count": 3,
   "metadata": {},
   "outputs": [],
   "source": [
    "data = pd.read_csv(r\"C:\\Users\\Michael Okuns\\Downloads\\TV_Forecast\\mock_kaggle.csv\")"
   ]
  },
  {
   "cell_type": "code",
   "execution_count": 4,
   "metadata": {},
   "outputs": [
    {
     "data": {
      "text/html": [
       "<div>\n",
       "<style scoped>\n",
       "    .dataframe tbody tr th:only-of-type {\n",
       "        vertical-align: middle;\n",
       "    }\n",
       "\n",
       "    .dataframe tbody tr th {\n",
       "        vertical-align: top;\n",
       "    }\n",
       "\n",
       "    .dataframe thead th {\n",
       "        text-align: right;\n",
       "    }\n",
       "</style>\n",
       "<table border=\"1\" class=\"dataframe\">\n",
       "  <thead>\n",
       "    <tr style=\"text-align: right;\">\n",
       "      <th></th>\n",
       "      <th>data</th>\n",
       "      <th>venda</th>\n",
       "      <th>estoque</th>\n",
       "      <th>preco</th>\n",
       "    </tr>\n",
       "  </thead>\n",
       "  <tbody>\n",
       "    <tr>\n",
       "      <th>0</th>\n",
       "      <td>2014-01-01</td>\n",
       "      <td>0</td>\n",
       "      <td>4972</td>\n",
       "      <td>1.29</td>\n",
       "    </tr>\n",
       "    <tr>\n",
       "      <th>1</th>\n",
       "      <td>2014-01-02</td>\n",
       "      <td>70</td>\n",
       "      <td>4902</td>\n",
       "      <td>1.29</td>\n",
       "    </tr>\n",
       "    <tr>\n",
       "      <th>2</th>\n",
       "      <td>2014-01-03</td>\n",
       "      <td>59</td>\n",
       "      <td>4843</td>\n",
       "      <td>1.29</td>\n",
       "    </tr>\n",
       "    <tr>\n",
       "      <th>3</th>\n",
       "      <td>2014-01-04</td>\n",
       "      <td>93</td>\n",
       "      <td>4750</td>\n",
       "      <td>1.29</td>\n",
       "    </tr>\n",
       "    <tr>\n",
       "      <th>4</th>\n",
       "      <td>2014-01-05</td>\n",
       "      <td>96</td>\n",
       "      <td>4654</td>\n",
       "      <td>1.29</td>\n",
       "    </tr>\n",
       "  </tbody>\n",
       "</table>\n",
       "</div>"
      ],
      "text/plain": [
       "         data  venda  estoque  preco\n",
       "0  2014-01-01      0     4972   1.29\n",
       "1  2014-01-02     70     4902   1.29\n",
       "2  2014-01-03     59     4843   1.29\n",
       "3  2014-01-04     93     4750   1.29\n",
       "4  2014-01-05     96     4654   1.29"
      ]
     },
     "execution_count": 4,
     "metadata": {},
     "output_type": "execute_result"
    }
   ],
   "source": [
    "data.head()"
   ]
  },
  {
   "cell_type": "code",
   "execution_count": 5,
   "metadata": {},
   "outputs": [],
   "source": [
    "data.columns = [\"date\", \"sale\", \"stock\", \"price\"]"
   ]
  },
  {
   "cell_type": "code",
   "execution_count": 6,
   "metadata": {},
   "outputs": [
    {
     "data": {
      "text/html": [
       "<div>\n",
       "<style scoped>\n",
       "    .dataframe tbody tr th:only-of-type {\n",
       "        vertical-align: middle;\n",
       "    }\n",
       "\n",
       "    .dataframe tbody tr th {\n",
       "        vertical-align: top;\n",
       "    }\n",
       "\n",
       "    .dataframe thead th {\n",
       "        text-align: right;\n",
       "    }\n",
       "</style>\n",
       "<table border=\"1\" class=\"dataframe\">\n",
       "  <thead>\n",
       "    <tr style=\"text-align: right;\">\n",
       "      <th></th>\n",
       "      <th>date</th>\n",
       "      <th>sale</th>\n",
       "      <th>stock</th>\n",
       "      <th>price</th>\n",
       "    </tr>\n",
       "  </thead>\n",
       "  <tbody>\n",
       "    <tr>\n",
       "      <th>0</th>\n",
       "      <td>2014-01-01</td>\n",
       "      <td>0</td>\n",
       "      <td>4972</td>\n",
       "      <td>1.29</td>\n",
       "    </tr>\n",
       "    <tr>\n",
       "      <th>1</th>\n",
       "      <td>2014-01-02</td>\n",
       "      <td>70</td>\n",
       "      <td>4902</td>\n",
       "      <td>1.29</td>\n",
       "    </tr>\n",
       "    <tr>\n",
       "      <th>2</th>\n",
       "      <td>2014-01-03</td>\n",
       "      <td>59</td>\n",
       "      <td>4843</td>\n",
       "      <td>1.29</td>\n",
       "    </tr>\n",
       "    <tr>\n",
       "      <th>3</th>\n",
       "      <td>2014-01-04</td>\n",
       "      <td>93</td>\n",
       "      <td>4750</td>\n",
       "      <td>1.29</td>\n",
       "    </tr>\n",
       "    <tr>\n",
       "      <th>4</th>\n",
       "      <td>2014-01-05</td>\n",
       "      <td>96</td>\n",
       "      <td>4654</td>\n",
       "      <td>1.29</td>\n",
       "    </tr>\n",
       "  </tbody>\n",
       "</table>\n",
       "</div>"
      ],
      "text/plain": [
       "         date  sale  stock  price\n",
       "0  2014-01-01     0   4972   1.29\n",
       "1  2014-01-02    70   4902   1.29\n",
       "2  2014-01-03    59   4843   1.29\n",
       "3  2014-01-04    93   4750   1.29\n",
       "4  2014-01-05    96   4654   1.29"
      ]
     },
     "execution_count": 6,
     "metadata": {},
     "output_type": "execute_result"
    }
   ],
   "source": [
    "data.head()"
   ]
  },
  {
   "cell_type": "code",
   "execution_count": 7,
   "metadata": {},
   "outputs": [],
   "source": [
    "data.set_index(\"date\", inplace = True)"
   ]
  },
  {
   "cell_type": "code",
   "execution_count": 8,
   "metadata": {},
   "outputs": [
    {
     "name": "stdout",
     "output_type": "stream",
     "text": [
      "<class 'pandas.core.frame.DataFrame'>\n",
      "Index: 937 entries, 2014-01-01 to 2016-07-31\n",
      "Data columns (total 3 columns):\n",
      "sale     937 non-null int64\n",
      "stock    937 non-null int64\n",
      "price    937 non-null float64\n",
      "dtypes: float64(1), int64(2)\n",
      "memory usage: 29.3+ KB\n"
     ]
    }
   ],
   "source": [
    "data.info()"
   ]
  },
  {
   "cell_type": "code",
   "execution_count": 9,
   "metadata": {},
   "outputs": [
    {
     "data": {
      "text/plain": [
       "sale     0\n",
       "stock    0\n",
       "price    0\n",
       "dtype: int64"
      ]
     },
     "execution_count": 9,
     "metadata": {},
     "output_type": "execute_result"
    }
   ],
   "source": [
    "data.isna().sum()"
   ]
  },
  {
   "cell_type": "code",
   "execution_count": 10,
   "metadata": {},
   "outputs": [
    {
     "data": {
      "text/plain": [
       "<matplotlib.axes._subplots.AxesSubplot at 0x1eccc0a3688>"
      ]
     },
     "execution_count": 10,
     "metadata": {},
     "output_type": "execute_result"
    },
    {
     "data": {
      "image/png": "[encoded data removed]",
      "text/plain": [
       "<Figure size 432x288 with 1 Axes>"
      ]
     },
     "metadata": {
      "needs_background": "light"
     },
     "output_type": "display_data"
    }
   ],
   "source": [
    "data[\"price\"].plot()"
   ]
  },
  {
   "cell_type": "code",
   "execution_count": 11,
   "metadata": {},
   "outputs": [
    {
     "data": {
      "text/plain": [
       "Index(['sale', 'stock', 'price'], dtype='object')"
      ]
     },
     "execution_count": 11,
     "metadata": {},
     "output_type": "execute_result"
    }
   ],
   "source": [
    "data.columns "
   ]
  },
  {
   "cell_type": "code",
   "execution_count": 12,
   "metadata": {},
   "outputs": [],
   "source": [
    "lag_col = ['sale', 'stock']\n",
    "window1 = 3\n",
    "window2 = 7"
   ]
  },
  {
   "cell_type": "code",
   "execution_count": 14,
   "metadata": {},
   "outputs": [],
   "source": [
    "for features in lag_col: \n",
    "    data[features + \"rollingmean3\"] =data[features].rolling(window = window1).mean()\n",
    "    data[features + \"rollingmean7\"] =data[features].rolling(window= window2).mean()"
   ]
  },
  {
   "cell_type": "code",
   "execution_count": 15,
   "metadata": {},
   "outputs": [],
   "source": [
    "for features in lag_col: \n",
    "    data[features + \"rollingstd3\"] =data[features].rolling(window = window1).std()\n",
    "    data[features + \"rollingstd7\"] =data[features].rolling(window= window2).std()"
   ]
  },
  {
   "cell_type": "code",
   "execution_count": 16,
   "metadata": {},
   "outputs": [
    {
     "data": {
      "text/plain": [
       "Index(['sale', 'stock', 'price', 'salerollingmean3', 'salerollingmean7',\n",
       "       'stockrollingmean3', 'stockrollingmean7', 'salerollingstd3',\n",
       "       'salerollingstd7', 'stockrollingstd3', 'stockrollingstd7'],\n",
       "      dtype='object')"
      ]
     },
     "execution_count": 16,
     "metadata": {},
     "output_type": "execute_result"
    }
   ],
   "source": [
    "data.columns"
   ]
  },
  {
   "cell_type": "code",
   "execution_count": 17,
   "metadata": {},
   "outputs": [
    {
     "data": {
      "text/html": [
       "<div>\n",
       "<style scoped>\n",
       "    .dataframe tbody tr th:only-of-type {\n",
       "        vertical-align: middle;\n",
       "    }\n",
       "\n",
       "    .dataframe tbody tr th {\n",
       "        vertical-align: top;\n",
       "    }\n",
       "\n",
       "    .dataframe thead th {\n",
       "        text-align: right;\n",
       "    }\n",
       "</style>\n",
       "<table border=\"1\" class=\"dataframe\">\n",
       "  <thead>\n",
       "    <tr style=\"text-align: right;\">\n",
       "      <th></th>\n",
       "      <th>sale</th>\n",
       "      <th>stock</th>\n",
       "      <th>price</th>\n",
       "      <th>salerollingmean3</th>\n",
       "      <th>salerollingmean7</th>\n",
       "      <th>stockrollingmean3</th>\n",
       "      <th>stockrollingmean7</th>\n",
       "      <th>salerollingstd3</th>\n",
       "      <th>salerollingstd7</th>\n",
       "      <th>stockrollingstd3</th>\n",
       "      <th>stockrollingstd7</th>\n",
       "    </tr>\n",
       "    <tr>\n",
       "      <th>date</th>\n",
       "      <th></th>\n",
       "      <th></th>\n",
       "      <th></th>\n",
       "      <th></th>\n",
       "      <th></th>\n",
       "      <th></th>\n",
       "      <th></th>\n",
       "      <th></th>\n",
       "      <th></th>\n",
       "      <th></th>\n",
       "      <th></th>\n",
       "    </tr>\n",
       "  </thead>\n",
       "  <tbody>\n",
       "    <tr>\n",
       "      <th>2014-01-01</th>\n",
       "      <td>0</td>\n",
       "      <td>4972</td>\n",
       "      <td>1.29</td>\n",
       "      <td>NaN</td>\n",
       "      <td>NaN</td>\n",
       "      <td>NaN</td>\n",
       "      <td>NaN</td>\n",
       "      <td>NaN</td>\n",
       "      <td>NaN</td>\n",
       "      <td>NaN</td>\n",
       "      <td>NaN</td>\n",
       "    </tr>\n",
       "    <tr>\n",
       "      <th>2014-01-02</th>\n",
       "      <td>70</td>\n",
       "      <td>4902</td>\n",
       "      <td>1.29</td>\n",
       "      <td>NaN</td>\n",
       "      <td>NaN</td>\n",
       "      <td>NaN</td>\n",
       "      <td>NaN</td>\n",
       "      <td>NaN</td>\n",
       "      <td>NaN</td>\n",
       "      <td>NaN</td>\n",
       "      <td>NaN</td>\n",
       "    </tr>\n",
       "    <tr>\n",
       "      <th>2014-01-03</th>\n",
       "      <td>59</td>\n",
       "      <td>4843</td>\n",
       "      <td>1.29</td>\n",
       "      <td>43.000000</td>\n",
       "      <td>NaN</td>\n",
       "      <td>4905.666667</td>\n",
       "      <td>NaN</td>\n",
       "      <td>37.643060</td>\n",
       "      <td>NaN</td>\n",
       "      <td>64.578118</td>\n",
       "      <td>NaN</td>\n",
       "    </tr>\n",
       "    <tr>\n",
       "      <th>2014-01-04</th>\n",
       "      <td>93</td>\n",
       "      <td>4750</td>\n",
       "      <td>1.29</td>\n",
       "      <td>74.000000</td>\n",
       "      <td>NaN</td>\n",
       "      <td>4831.666667</td>\n",
       "      <td>NaN</td>\n",
       "      <td>17.349352</td>\n",
       "      <td>NaN</td>\n",
       "      <td>76.631151</td>\n",
       "      <td>NaN</td>\n",
       "    </tr>\n",
       "    <tr>\n",
       "      <th>2014-01-05</th>\n",
       "      <td>96</td>\n",
       "      <td>4654</td>\n",
       "      <td>1.29</td>\n",
       "      <td>82.666667</td>\n",
       "      <td>NaN</td>\n",
       "      <td>4749.000000</td>\n",
       "      <td>NaN</td>\n",
       "      <td>20.550750</td>\n",
       "      <td>NaN</td>\n",
       "      <td>94.503968</td>\n",
       "      <td>NaN</td>\n",
       "    </tr>\n",
       "  </tbody>\n",
       "</table>\n",
       "</div>"
      ],
      "text/plain": [
       "            sale  stock  price  salerollingmean3  salerollingmean7  \\\n",
       "date                                                                 \n",
       "2014-01-01     0   4972   1.29               NaN               NaN   \n",
       "2014-01-02    70   4902   1.29               NaN               NaN   \n",
       "2014-01-03    59   4843   1.29         43.000000               NaN   \n",
       "2014-01-04    93   4750   1.29         74.000000               NaN   \n",
       "2014-01-05    96   4654   1.29         82.666667               NaN   \n",
       "\n",
       "            stockrollingmean3  stockrollingmean7  salerollingstd3  \\\n",
       "date                                                                \n",
       "2014-01-01                NaN                NaN              NaN   \n",
       "2014-01-02                NaN                NaN              NaN   \n",
       "2014-01-03        4905.666667                NaN        37.643060   \n",
       "2014-01-04        4831.666667                NaN        17.349352   \n",
       "2014-01-05        4749.000000                NaN        20.550750   \n",
       "\n",
       "            salerollingstd7  stockrollingstd3  stockrollingstd7  \n",
       "date                                                             \n",
       "2014-01-01              NaN               NaN               NaN  \n",
       "2014-01-02              NaN               NaN               NaN  \n",
       "2014-01-03              NaN         64.578118               NaN  \n",
       "2014-01-04              NaN         76.631151               NaN  \n",
       "2014-01-05              NaN         94.503968               NaN  "
      ]
     },
     "execution_count": 17,
     "metadata": {},
     "output_type": "execute_result"
    }
   ],
   "source": [
    "data.head()"
   ]
  },
  {
   "cell_type": "code",
   "execution_count": 18,
   "metadata": {},
   "outputs": [
    {
     "data": {
      "text/plain": [
       "sale                 0\n",
       "stock                0\n",
       "price                0\n",
       "salerollingmean3     2\n",
       "salerollingmean7     6\n",
       "stockrollingmean3    2\n",
       "stockrollingmean7    6\n",
       "salerollingstd3      2\n",
       "salerollingstd7      6\n",
       "stockrollingstd3     2\n",
       "stockrollingstd7     6\n",
       "dtype: int64"
      ]
     },
     "execution_count": 18,
     "metadata": {},
     "output_type": "execute_result"
    }
   ],
   "source": [
    "data.isna().sum()"
   ]
  },
  {
   "cell_type": "code",
   "execution_count": 19,
   "metadata": {},
   "outputs": [],
   "source": [
    "for col in data.columns:\n",
    "    data[col].fillna(data[col].median(), inplace = True)"
   ]
  },
  {
   "cell_type": "code",
   "execution_count": 20,
   "metadata": {},
   "outputs": [
    {
     "data": {
      "text/plain": [
       "sale                 0\n",
       "stock                0\n",
       "price                0\n",
       "salerollingmean3     0\n",
       "salerollingmean7     0\n",
       "stockrollingmean3    0\n",
       "stockrollingmean7    0\n",
       "salerollingstd3      0\n",
       "salerollingstd7      0\n",
       "stockrollingstd3     0\n",
       "stockrollingstd7     0\n",
       "dtype: int64"
      ]
     },
     "execution_count": 20,
     "metadata": {},
     "output_type": "execute_result"
    }
   ],
   "source": [
    "data.isna().sum()"
   ]
  },
  {
   "cell_type": "code",
   "execution_count": 21,
   "metadata": {},
   "outputs": [
    {
     "data": {
      "text/plain": [
       "Index(['sale', 'stock', 'price', 'salerollingmean3', 'salerollingmean7',\n",
       "       'stockrollingmean3', 'stockrollingmean7', 'salerollingstd3',\n",
       "       'salerollingstd7', 'stockrollingstd3', 'stockrollingstd7'],\n",
       "      dtype='object')"
      ]
     },
     "execution_count": 21,
     "metadata": {},
     "output_type": "execute_result"
    }
   ],
   "source": [
    "data.columns "
   ]
  },
  {
   "cell_type": "code",
   "execution_count": 22,
   "metadata": {},
   "outputs": [],
   "source": [
    "ind_feature = ['salerollingmean3', 'salerollingmean7',\n",
    "       'stockrollingmean3', 'stockrollingmean7', 'salerollingstd3',\n",
    "       'salerollingstd7', 'stockrollingstd3', 'stockrollingstd7']"
   ]
  },
  {
   "cell_type": "code",
   "execution_count": 23,
   "metadata": {
    "collapsed": true
   },
   "outputs": [
    {
     "name": "stdout",
     "output_type": "stream",
     "text": [
      "<class 'pandas.core.frame.DataFrame'>\n",
      "Index: 937 entries, 2014-01-01 to 2016-07-31\n",
      "Data columns (total 11 columns):\n",
      "sale                 937 non-null int64\n",
      "stock                937 non-null int64\n",
      "price                937 non-null float64\n",
      "salerollingmean3     937 non-null float64\n",
      "salerollingmean7     937 non-null float64\n",
      "stockrollingmean3    937 non-null float64\n",
      "stockrollingmean7    937 non-null float64\n",
      "salerollingstd3      937 non-null float64\n",
      "salerollingstd7      937 non-null float64\n",
      "stockrollingstd3     937 non-null float64\n",
      "stockrollingstd7     937 non-null float64\n",
      "dtypes: float64(9), int64(2)\n",
      "memory usage: 87.8+ KB\n"
     ]
    }
   ],
   "source": [
    "data.info()"
   ]
  },
  {
   "cell_type": "code",
   "execution_count": 24,
   "metadata": {},
   "outputs": [],
   "source": [
    "train_data = data[:468]\n",
    "test_data = data[468:]"
   ]
  },
  {
   "cell_type": "code",
   "execution_count": 25,
   "metadata": {},
   "outputs": [],
   "source": [
    "from pmdarima import auto_arima\n",
    "import warnings \n",
    "warnings.filterwarnings(\"ignore\")"
   ]
  },
  {
   "cell_type": "code",
   "execution_count": 26,
   "metadata": {},
   "outputs": [
    {
     "name": "stdout",
     "output_type": "stream",
     "text": [
      "Performing stepwise search to minimize aic\n",
      " ARIMA(2,1,2)(0,0,0)[0] intercept   : AIC=-115.217, Time=2.34 sec\n",
      " ARIMA(0,1,0)(0,0,0)[0] intercept   : AIC=-76.230, Time=0.79 sec\n",
      " ARIMA(1,1,0)(0,0,0)[0] intercept   : AIC=-115.255, Time=1.66 sec\n",
      " ARIMA(0,1,1)(0,0,0)[0] intercept   : AIC=-118.470, Time=1.37 sec\n",
      " ARIMA(0,1,0)(0,0,0)[0]             : AIC=-77.677, Time=2.96 sec\n",
      " ARIMA(1,1,1)(0,0,0)[0] intercept   : AIC=-116.177, Time=2.96 sec\n",
      " ARIMA(0,1,2)(0,0,0)[0] intercept   : AIC=-116.369, Time=1.59 sec\n",
      " ARIMA(1,1,2)(0,0,0)[0] intercept   : AIC=-114.227, Time=3.27 sec\n",
      " ARIMA(0,1,1)(0,0,0)[0]             : AIC=-120.469, Time=1.24 sec\n",
      " ARIMA(1,1,1)(0,0,0)[0]             : AIC=-118.177, Time=1.93 sec\n",
      " ARIMA(0,1,2)(0,0,0)[0]             : AIC=-118.368, Time=2.47 sec\n",
      " ARIMA(1,1,0)(0,0,0)[0]             : AIC=-117.255, Time=1.53 sec\n",
      " ARIMA(1,1,2)(0,0,0)[0]             : AIC=-116.227, Time=2.50 sec\n",
      "\n",
      "Best model:  ARIMA(0,1,1)(0,0,0)[0]          \n",
      "Total fit time: 27.258 seconds\n"
     ]
    }
   ],
   "source": [
    "model = auto_arima(train_data[\"price\"], exogenous = train_data[ind_feature], trace = True)"
   ]
  },
  {
   "cell_type": "code",
   "execution_count": 30,
   "metadata": {},
   "outputs": [
    {
     "data": {
      "text/plain": [
       "ARIMA(order=(0, 1, 1), scoring_args={}, suppress_warnings=True,\n",
       "      with_intercept=False)"
      ]
     },
     "execution_count": 30,
     "metadata": {},
     "output_type": "execute_result"
    }
   ],
   "source": [
    "model.fit(train_data[\"price\"], train_data[ind_feature])"
   ]
  },
  {
   "cell_type": "code",
   "execution_count": 33,
   "metadata": {},
   "outputs": [],
   "source": [
    "forecast = model.predict(n_periods = len(test_data), exogenous =test_data[ind_feature])"
   ]
  },
  {
   "cell_type": "code",
   "execution_count": 34,
   "metadata": {
    "collapsed": true
   },
   "outputs": [
    {
     "data": {
      "text/plain": [
       "array([1.37259568, 1.34891317, 1.34792426, 1.36652171, 1.34478424,\n",
       "       1.33149228, 1.33281056, 1.34926286, 1.35795722, 1.3544216 ,\n",
       "       1.34070819, 1.31602547, 1.30045392, 1.29196772, 1.31292244,\n",
       "       1.3272283 , 1.34985847, 1.37333338, 1.42989778, 1.47638595,\n",
       "       1.49974417, 1.50542434, 1.5054155 , 1.50581075, 1.50559075,\n",
       "       1.5052557 , 1.50541123, 1.50545191, 1.50556993, 1.50544047,\n",
       "       1.50567754, 1.50591894, 1.50602154, 1.50602136, 1.50601976,\n",
       "       1.50601213, 1.5061934 , 1.5061934 , 1.5061934 , 1.5061934 ,\n",
       "       1.5061934 , 1.5061934 , 1.50514225, 1.50482579, 1.50568586,\n",
       "       1.50560212, 1.48037783, 1.43548606, 1.39051104, 1.36656191,\n",
       "       1.33101357, 1.29265338, 1.26067859, 1.28023057, 1.2833659 ,\n",
       "       1.29161454, 1.29491953, 1.30125608, 1.32335981, 1.32055274,\n",
       "       1.31834755, 1.33473605, 1.32896404, 1.34774462, 1.36440735,\n",
       "       1.35199419, 1.36299876, 1.36803705, 1.35795188, 1.36910363,\n",
       "       1.35564797, 1.33815837, 1.31113999, 1.30181317, 1.27810463,\n",
       "       1.29128469, 1.27022341, 1.27119197, 1.23416432, 1.2582163 ,\n",
       "       1.23715129, 1.29979666, 1.31852902, 1.32610916, 1.33368082,\n",
       "       1.37805487, 1.36950166, 1.39832756, 1.37767142, 1.3692354 ,\n",
       "       1.38038076, 1.36974421, 1.38189253, 1.40402897, 1.39886802,\n",
       "       1.39814292, 1.38084721, 1.38234332, 1.40026376, 1.36613769,\n",
       "       1.33929636, 1.31954088, 1.31679538, 1.31639665, 1.33951533,\n",
       "       1.35890397, 1.35316581, 1.37398464, 1.40934092, 1.42047854,\n",
       "       1.44910295, 1.44445791, 1.4227912 , 1.41055001, 1.41213385,\n",
       "       1.40018624, 1.40326311, 1.41023598, 1.39919584, 1.42284455,\n",
       "       1.38380817, 1.34979149, 1.34362899, 1.36530023, 1.40252418,\n",
       "       1.408253  , 1.39944708, 1.40316437, 1.4400538 , 1.43222641,\n",
       "       1.40743234, 1.38303293, 1.40904358, 1.41163279, 1.40494136,\n",
       "       1.36307381, 1.35547476, 1.35922043, 1.32892826, 1.31427785,\n",
       "       1.26426404, 1.2874253 , 1.31588967, 1.2819068 , 1.29449914,\n",
       "       1.30587551, 1.29941985, 1.34299629, 1.33085853, 1.32515685,\n",
       "       1.34987027, 1.347094  , 1.36204506, 1.39730727, 1.39964657,\n",
       "       1.39761631, 1.4070864 , 1.42015847, 1.43049516, 1.4322293 ,\n",
       "       1.4162453 , 1.40654997, 1.4184367 , 1.41832327, 1.39761266,\n",
       "       1.36754074, 1.30719061, 1.33549125, 1.35428153, 1.31485097,\n",
       "       1.31371201, 1.31874003, 1.34617425, 1.41027281, 1.40160821,\n",
       "       1.38679694, 1.37586982, 1.36023312, 1.34647912, 1.32763701,\n",
       "       1.31545438, 1.28828607, 1.29365866, 1.29402124, 1.28624848,\n",
       "       1.27182145, 1.26929601, 1.27489927, 1.26149781, 1.25311697,\n",
       "       1.23748347, 1.19244708, 1.21226971, 1.24175317, 1.21749977,\n",
       "       1.2224892 , 1.19841877, 1.24053257, 1.27322815, 1.2524648 ,\n",
       "       1.26740025, 1.27558921, 1.28217852, 1.3166898 , 1.31579785,\n",
       "       1.31443354, 1.30922431, 1.30134122, 1.32031538, 1.32231015,\n",
       "       1.32205065, 1.31274601, 1.30737383, 1.31280773, 1.30519327,\n",
       "       1.31455301, 1.32663566, 1.33631176, 1.32424226, 1.31714497,\n",
       "       1.31326234, 1.36616598, 1.3958117 , 1.40955013, 1.42377898,\n",
       "       1.44797452, 1.44895412, 1.4484012 , 1.44689211, 1.42485688,\n",
       "       1.40247789, 1.38271055, 1.35594637, 1.34335187, 1.33867571,\n",
       "       1.35415027, 1.35579786, 1.34656137, 1.34891166, 1.33153805,\n",
       "       1.31503183, 1.28424782, 1.25011806, 1.22318281, 1.17410189,\n",
       "       1.11921291, 1.08275855, 1.03275284, 1.04792615, 1.12625136,\n",
       "       1.12715437, 1.17581478, 1.20526447, 1.29039154, 1.38142558,\n",
       "       1.4088172 , 1.40635452, 1.45070289, 1.47336965, 1.49210522,\n",
       "       1.49323583, 1.49256629, 1.49263796, 1.49215574, 1.49280689,\n",
       "       1.49219751, 1.49225236, 1.48584659, 1.45782005, 1.42260505,\n",
       "       1.41489574, 1.41125807, 1.41056368, 1.40610665, 1.42715047,\n",
       "       1.46208052, 1.44568886, 1.43215647, 1.41871779, 1.36736549,\n",
       "       1.31031806, 1.28034062, 1.23218309, 1.20668648, 1.19149484,\n",
       "       1.20016112, 1.19415154, 1.22125995, 1.19841997, 1.17394772,\n",
       "       1.19372815, 1.21825183, 1.244344  , 1.27953329, 1.29510645,\n",
       "       1.31527533, 1.33100837, 1.32361589, 1.32249751, 1.3069323 ,\n",
       "       1.30139827, 1.32298978, 1.32096884, 1.33257848, 1.34797952,\n",
       "       1.36443879, 1.38570716, 1.39296784, 1.382823  , 1.3812367 ,\n",
       "       1.38931745, 1.38932375, 1.38239352, 1.36963086, 1.33822917,\n",
       "       1.33873808, 1.33271529, 1.30134728, 1.29824914, 1.3020733 ,\n",
       "       1.32708561, 1.35016063, 1.34194837, 1.34522012, 1.36702496,\n",
       "       1.36586028, 1.37045865, 1.37414618, 1.38076311, 1.3986084 ,\n",
       "       1.39746406, 1.38720474, 1.37880974, 1.37646059, 1.36522704,\n",
       "       1.34807865, 1.33228368, 1.32657144, 1.32835679, 1.33019894,\n",
       "       1.32142926, 1.32739284, 1.34882586, 1.36385925, 1.36556764,\n",
       "       1.37533138, 1.38258771, 1.38974413, 1.39490959, 1.39881292,\n",
       "       1.3818785 , 1.36932181, 1.35546944, 1.3413433 , 1.33090175,\n",
       "       1.31686318, 1.2928216 , 1.27446142, 1.27742288, 1.27680085,\n",
       "       1.27924688, 1.24961444, 1.25137378, 1.26164675, 1.27604849,\n",
       "       1.25263539, 1.24003565, 1.19921721, 1.1613217 , 1.15429242,\n",
       "       1.17473974, 1.17779272, 1.18181861, 1.19311077, 1.22898254,\n",
       "       1.25737025, 1.27021088, 1.2641597 , 1.30558358, 1.28434035,\n",
       "       1.27561605, 1.24173095, 1.2134839 , 1.19156142, 1.1970882 ,\n",
       "       1.16320371, 1.12768601, 1.11619807, 1.14579957, 1.18056071,\n",
       "       1.27331405, 1.32073107, 1.34690987, 1.35924534, 1.40595926,\n",
       "       1.43420141, 1.42907287, 1.39275624, 1.35510976, 1.32255512,\n",
       "       1.30553767, 1.25749571, 1.23359885, 1.24182266, 1.2195397 ,\n",
       "       1.19572443, 1.18719542, 1.13670385, 1.10584866, 1.08930393,\n",
       "       1.10808303, 1.10534462, 1.08020201, 1.09019821, 1.09738421,\n",
       "       1.09447659, 1.10310901, 1.07896525, 1.0721684 , 1.07577339,\n",
       "       1.06274133, 1.02301117, 1.00498135, 0.99624938, 0.99525137,\n",
       "       1.01630186, 1.0082952 , 1.04823448, 1.11289479, 1.15747361,\n",
       "       1.1834604 , 1.23766875, 1.30696586, 1.34243782, 1.33922858,\n",
       "       1.31998834, 1.29990737, 1.27810523, 1.24561373, 1.2236535 ,\n",
       "       1.20915992, 1.20805107, 1.15833161, 1.12632656, 1.11569716,\n",
       "       1.18854078, 1.23450166, 1.25414755, 1.25944187, 1.27338409,\n",
       "       1.26904735, 1.27959868, 1.24601279, 1.20253609, 1.17010357,\n",
       "       1.16024335, 1.14735585, 1.1591733 , 1.19069707, 1.22011634,\n",
       "       1.23680946, 1.24820096, 1.28044309, 1.27708992, 1.30331908,\n",
       "       1.29877122, 1.27779748, 1.26219216, 1.24496154])"
      ]
     },
     "execution_count": 34,
     "metadata": {},
     "output_type": "execute_result"
    }
   ],
   "source": [
    "forecast"
   ]
  },
  {
   "cell_type": "code",
   "execution_count": 35,
   "metadata": {},
   "outputs": [],
   "source": [
    "test_data[\"forecast\"] = forecast"
   ]
  },
  {
   "cell_type": "code",
   "execution_count": 36,
   "metadata": {},
   "outputs": [
    {
     "data": {
      "text/plain": [
       "<matplotlib.axes._subplots.AxesSubplot at 0x1ecd0e77508>"
      ]
     },
     "execution_count": 36,
     "metadata": {},
     "output_type": "execute_result"
    },
    {
     "data": {
      "image/png": "[encoded data removed]",
      "text/plain": [
       "<Figure size 432x288 with 1 Axes>"
      ]
     },
     "metadata": {
      "needs_background": "light"
     },
     "output_type": "display_data"
    }
   ],
   "source": [
    "test_data[[\"price\", \"forecast\"]].plot()"
   ]
  },
  {
   "cell_type": "code",
   "execution_count": 37,
   "metadata": {},
   "outputs": [],
   "source": [
    "from sklearn import metrics"
   ]
  },
  {
   "cell_type": "code",
   "execution_count": 38,
   "metadata": {},
   "outputs": [
    {
     "data": {
      "text/plain": [
       "0.750379868728063"
      ]
     },
     "execution_count": 38,
     "metadata": {},
     "output_type": "execute_result"
    }
   ],
   "source": [
    "np.sqrt(metrics.mean_squared_error(test_data[\"price\"], test_data[\"forecast\"]))"
   ]
  },
  {
   "cell_type": "code",
   "execution_count": 39,
   "metadata": {},
   "outputs": [
    {
     "data": {
      "text/plain": [
       "0.569358433276702"
      ]
     },
     "execution_count": 39,
     "metadata": {},
     "output_type": "execute_result"
    }
   ],
   "source": [
    "metrics.mean_absolute_error(test_data['price'],test_data['forecast'])"
   ]
  }
 ],
 "metadata": {
  "kernelspec": {
   "display_name": "Python 3",
   "language": "python",
   "name": "python3"
  },
  "language_info": {
   "codemirror_mode": {
    "name": "ipython",
    "version": 3
   },
   "file_extension": ".py",
   "mimetype": "text/x-python",
   "name": "python",
   "nbconvert_exporter": "python",
   "pygments_lexer": "ipython3",
   "version": "3.7.6"
  }
 },
 "nbformat": 4,
 "nbformat_minor": 4
}
